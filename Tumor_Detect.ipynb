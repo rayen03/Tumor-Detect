{
  "cells": [
    {
      "cell_type": "markdown",
      "metadata": {
        "id": "view-in-github",
        "colab_type": "text"
      },
      "source": [
        "<a href=\"https://colab.research.google.com/github/rayen03/Tumor-Detect/blob/main/Tumor_Detect.ipynb\" target=\"_parent\"><img src=\"https://colab.research.google.com/assets/colab-badge.svg\" alt=\"Open In Colab\"/></a>"
      ]
    },
    {
      "cell_type": "code",
      "execution_count": 30,
      "metadata": {
        "colab": {
          "base_uri": "https://localhost:8080/"
        },
        "id": "yPX-_7RovS6T",
        "outputId": "9b175314-18bb-4928-c0d0-07ed84b68259"
      },
      "outputs": [
        {
          "output_type": "stream",
          "name": "stdout",
          "text": [
            "Drive already mounted at /content/drive; to attempt to forcibly remount, call drive.mount(\"/content/drive\", force_remount=True).\n"
          ]
        }
      ],
      "source": [
        "#imports\n",
        "\n",
        "import tensorflow as tf\n",
        "import os\n",
        "import cv2\n",
        "import random\n",
        "from PIL import Image\n",
        "import shutil\n",
        "from tensorflow.keras.preprocessing.image import ImageDataGenerator\n",
        "from tensorflow.keras.applications.mobilenet_v2 import preprocess_input\n",
        "from keras.utils import to_categorical\n",
        "from sklearn.utils import shuffle\n",
        "from tensorflow.keras.applications import VGG16\n",
        "from keras.src.metrics.confusion_metrics import activations\n",
        "from tensorflow.keras.models import Sequential\n",
        "from tensorflow.keras.layers import Conv2D,Dense,MaxPooling2D,Flatten,BatchNormalization,Dropout,Activation\n",
        "from tensorflow.keras.models import load_model\n",
        "from google.colab import drive\n",
        "drive.mount('/content/drive')"
      ]
    },
    {
      "cell_type": "code",
      "execution_count": 28,
      "metadata": {
        "colab": {
          "base_uri": "https://localhost:8080/"
        },
        "id": "u4q2i51uLERs",
        "outputId": "f1f477c8-e555-4568-80df-437419fc658d"
      },
      "outputs": [
        {
          "output_type": "stream",
          "name": "stdout",
          "text": [
            "['test', 'train', 'valid']\n"
          ]
        },
        {
          "output_type": "execute_result",
          "data": {
            "text/plain": [
              "['adenocarcinoma', 'large.cell.carcinoma', 'normal', 'squamous.cell.carcinoma']"
            ]
          },
          "metadata": {},
          "execution_count": 28
        }
      ],
      "source": [
        "data_dir = '/content/drive/MyDrive/Data-Copy'\n",
        "train_folder = os.path.join(data_dir, 'train')\n",
        "valid_folder = os.path.join(data_dir, 'valid')\n",
        "test_folder = os.path.join(data_dir, 'test')\n",
        "print(os.listdir(data_dir))\n",
        "Cclasses = os.listdir(test_folder)\n",
        "Cclasses"
      ]
    },
    {
      "cell_type": "markdown",
      "source": [
        "# Data control"
      ],
      "metadata": {
        "id": "vnt0jnZOOs8_"
      }
    },
    {
      "cell_type": "code",
      "execution_count": null,
      "metadata": {
        "id": "ocg5e1_VF_4O"
      },
      "outputs": [],
      "source": [
        "\n",
        "#deleting corrupted files\n",
        "\n",
        "def filter_images(folder_path):\n",
        "    for root, dirs, files in os.walk(folder_path):\n",
        "        for filename in files:\n",
        "            file_path = os.path.join(root, filename)\n",
        "\n",
        "            if file_path.lower().endswith(('.png', '.jpg', '.jpeg', '.gif', '.bmp')):\n",
        "                try:\n",
        "\n",
        "                    with Image.open(file_path) as img:\n",
        "                        img.verify()\n",
        "                except OSError:\n",
        "\n",
        "                    print(f\"Removing: {file_path}\")\n",
        "                    os.remove(file_path)\n",
        "            else:\n",
        "\n",
        "                print(f\"Removing: {file_path} - Unsupported file type\")\n",
        "                os.remove(file_path)\n",
        "\n",
        "filter_images(test_folder)\n",
        "filter_images(train_folder)\n",
        "filter_images(valid_folder)\n"
      ]
    },
    {
      "cell_type": "code",
      "source": [
        "\n",
        "#  oversample a class\n",
        "def oversample_class(class_folder, target_count):\n",
        "    files = os.listdir(class_folder)\n",
        "    current_count = len(files)\n",
        "\n",
        "    oversample_count = target_count - current_count\n",
        "    if oversample_count > 0:\n",
        "        oversampled_files = random.choices(files, k=oversample_count)\n",
        "        for file in oversampled_files:\n",
        "            source_path = os.path.join(class_folder, file)\n",
        "            destination_path = os.path.join(class_folder, f\"copy_{file}\")\n",
        "            shutil.copyfile(source_path, destination_path)\n",
        "\n",
        "# undersample a class\n",
        "def undersample_class(class_folder, target_count):\n",
        "    files = os.listdir(class_folder)\n",
        "    current_count = len(files)\n",
        "\n",
        "    undersample_count = current_count - target_count\n",
        "    if undersample_count > 0:\n",
        "        undersampled_files = random.sample(files, k=undersample_count)\n",
        "        for file in undersampled_files:\n",
        "            file_path = os.path.join(class_folder, file)\n",
        "            os.remove(file_path)\n",
        "\n",
        "target_count = 181\n",
        "\n",
        "for Cclass in os.listdir(train_folder):\n",
        "    class_folder_train = os.path.join(train_folder, Cclass)\n",
        "\n",
        "    # oversampling\n",
        "    oversample_condition = len(os.listdir(class_folder_train)) < target_count\n",
        "    if oversample_condition:\n",
        "        oversample_class(class_folder_train, target_count)\n",
        "\n",
        "    # undersampling\n",
        "    undersample_condition = len(os.listdir(class_folder_train)) > target_count\n",
        "    if undersample_condition:\n",
        "        undersample_class(class_folder_train, target_count)\n"
      ],
      "metadata": {
        "id": "wPSy42sNpx_h"
      },
      "execution_count": 35,
      "outputs": []
    },
    {
      "cell_type": "code",
      "execution_count": 39,
      "metadata": {
        "colab": {
          "base_uri": "https://localhost:8080/"
        },
        "id": "G7hU85t7qt6J",
        "outputId": "3f0af2c4-ebb4-4a9b-f628-c87b296a5152"
      },
      "outputs": [
        {
          "output_type": "stream",
          "name": "stdout",
          "text": [
            "Folder: /content/drive/MyDrive/Data-Copy/test\n",
            "  Class: adenocarcinoma - Count: 62 - Percentage: 30.24%\n",
            "  Class: large.cell.carcinoma - Count: 40 - Percentage: 19.51%\n",
            "  Class: normal - Count: 38 - Percentage: 18.54%\n",
            "  Class: squamous.cell.carcinoma - Count: 65 - Percentage: 31.71%\n",
            "  Total Files: 205\n",
            "\n",
            "Folder: /content/drive/MyDrive/Data-Copy/train\n",
            "  Class: adenocarcinoma - Count: 181 - Percentage: 25.64%\n",
            "  Class: large.cell.carcinoma - Count: 165 - Percentage: 23.37%\n",
            "  Class: normal - Count: 179 - Percentage: 25.35%\n",
            "  Class: squamous.cell.carcinoma - Count: 181 - Percentage: 25.64%\n",
            "  Total Files: 706\n",
            "\n",
            "Folder: /content/drive/MyDrive/Data-Copy/valid\n",
            "  Class: adenocarcinoma - Count: 23 - Percentage: 33.82%\n",
            "  Class: large.cell.carcinoma - Count: 17 - Percentage: 25.00%\n",
            "  Class: normal - Count: 13 - Percentage: 19.12%\n",
            "  Class: squamous.cell.carcinoma - Count: 15 - Percentage: 22.06%\n",
            "  Total Files: 68\n",
            "\n"
          ]
        }
      ],
      "source": [
        "\n",
        "\n",
        "\n",
        "# Function to count the number of files in a folder\n",
        "def count_files(folder_path):\n",
        "    try:\n",
        "        with os.scandir(folder_path) as entries:\n",
        "            return sum(1 for entry in entries if entry.is_file() and not entry.name.startswith('.'))\n",
        "    except OSError as e:\n",
        "        print(f\"Error counting files in {folder_path}: {e}\")\n",
        "        return 0\n",
        "\n",
        "# Function to calculate the percentage of files in a folder\n",
        "def calculate_percentage(folder_path, total_files):\n",
        "    folder_files = count_files(folder_path)\n",
        "    return (folder_files / total_files) * 100 if total_files > 0 else 0\n",
        "\n",
        "# Iterate through test, train, and valid folders\n",
        "for folder in [test_folder, train_folder, valid_folder]:\n",
        "    total_files = sum([count_files(os.path.join(folder, class_name)) for class_name in Cclasses])\n",
        "\n",
        "    print(f\"Folder: {folder}\")\n",
        "    for class_name in Cclasses:\n",
        "        class_folder = os.path.join(folder, class_name)\n",
        "        class_count = count_files(class_folder)\n",
        "        class_percentage = calculate_percentage(class_folder, total_files)\n",
        "        print(f\"  Class: {class_name} - Count: {class_count} - Percentage: {class_percentage:.2f}%\")\n",
        "\n",
        "    print(f\"  Total Files: {total_files}\")\n",
        "    print()\n",
        "\n"
      ]
    },
    {
      "cell_type": "markdown",
      "source": [
        "# Model"
      ],
      "metadata": {
        "id": "s34GxUnOO7af"
      }
    },
    {
      "cell_type": "code",
      "execution_count": 40,
      "metadata": {
        "colab": {
          "base_uri": "https://localhost:8080/"
        },
        "id": "ta1p5Cqi0RVv",
        "outputId": "e073f69d-b7f1-4bf1-bfcc-472fa6b60aa7"
      },
      "outputs": [
        {
          "output_type": "stream",
          "name": "stdout",
          "text": [
            "Found 706 images belonging to 4 classes.\n",
            "Found 68 images belonging to 4 classes.\n",
            "Found 205 images belonging to 4 classes.\n"
          ]
        }
      ],
      "source": [
        "\n",
        "#buiding generators\n",
        "basic_gen = ImageDataGenerator(\n",
        "    preprocessing_function = preprocess_input,\n",
        "    dtype = 'float32'\n",
        ")\n",
        "train_gen = ImageDataGenerator(\n",
        "    preprocessing_function = preprocess_input,\n",
        "    rotation_range = 20,\n",
        "    width_shift_range = 0.3,\n",
        "    height_shift_range = 0.3,\n",
        "    zoom_range = 0.2,\n",
        "    horizontal_flip = True,\n",
        "    vertical_flip = True,\n",
        "    dtype = 'float32'\n",
        ")\n",
        "#data gen\n",
        "train_data = train_gen.flow_from_directory(\n",
        "    train_folder,\n",
        "    target_size = (224,224),\n",
        "    batch_size = 16,\n",
        "    class_mode = 'categorical'\n",
        ")\n",
        "\n",
        "valid_data = basic_gen.flow_from_directory(\n",
        "    valid_folder,\n",
        "    target_size = (224,224),\n",
        "    batch_size = 16,\n",
        "    class_mode = 'categorical'\n",
        ")\n",
        "\n",
        "test_data = basic_gen.flow_from_directory(\n",
        "    test_folder,\n",
        "    target_size = (224,224),\n",
        "    batch_size = 16,\n",
        "    class_mode = 'categorical',\n",
        "    shuffle = True\n",
        ")\n",
        "\n"
      ]
    },
    {
      "cell_type": "code",
      "execution_count": 41,
      "metadata": {
        "colab": {
          "base_uri": "https://localhost:8080/"
        },
        "id": "dEHtL777QMMI",
        "outputId": "e882a246-ac4e-4d68-e76e-15e698bcf887"
      },
      "outputs": [
        {
          "output_type": "stream",
          "name": "stdout",
          "text": [
            "Downloading data from https://storage.googleapis.com/tensorflow/keras-applications/vgg16/vgg16_weights_tf_dim_ordering_tf_kernels_notop.h5\n",
            "58889256/58889256 [==============================] - 0s 0us/step\n",
            "Model: \"sequential\"\n",
            "_________________________________________________________________\n",
            " Layer (type)                Output Shape              Param #   \n",
            "=================================================================\n",
            " vgg16 (Functional)          (None, 7, 7, 512)         14714688  \n",
            "                                                                 \n",
            " batch_normalization (Batch  (None, 7, 7, 512)         2048      \n",
            " Normalization)                                                  \n",
            "                                                                 \n",
            " max_pooling2d (MaxPooling2  (None, 3, 3, 512)         0         \n",
            " D)                                                              \n",
            "                                                                 \n",
            " flatten (Flatten)           (None, 4608)              0         \n",
            "                                                                 \n",
            " dense (Dense)               (None, 1024)              4719616   \n",
            "                                                                 \n",
            " dropout (Dropout)           (None, 1024)              0         \n",
            "                                                                 \n",
            " dense_1 (Dense)             (None, 512)               524800    \n",
            "                                                                 \n",
            " dropout_1 (Dropout)         (None, 512)               0         \n",
            "                                                                 \n",
            " dense_2 (Dense)             (None, 256)               131328    \n",
            "                                                                 \n",
            " dense_3 (Dense)             (None, 4)                 1028      \n",
            "                                                                 \n",
            "=================================================================\n",
            "Total params: 20093508 (76.65 MB)\n",
            "Trainable params: 5377796 (20.51 MB)\n",
            "Non-trainable params: 14715712 (56.14 MB)\n",
            "_________________________________________________________________\n"
          ]
        }
      ],
      "source": [
        "#building model\n",
        "\n",
        "input_shape=(224,224,3)\n",
        "\n",
        "base_model = VGG16(\n",
        "    include_top = False,\n",
        "    weights=\"imagenet\",\n",
        "    input_shape = input_shape\n",
        ")\n",
        "\n",
        "#freezing layers to use the model as feature extractor\n",
        "for layer in base_model.layers:\n",
        "    layer.trainable = False\n",
        "\n",
        "\n",
        "model = Sequential()\n",
        "model.add(base_model)\n",
        "model.add(BatchNormalization())\n",
        "model.add(MaxPooling2D((2,2)))\n",
        "model.add(Flatten())\n",
        "model.add(Dense(1024,activation = 'relu'))\n",
        "model.add(Dropout(0.3))\n",
        "model.add(Dense(512,activation = 'relu'))\n",
        "model.add(Dropout(0.3))\n",
        "model.add(Dense(256,activation = 'relu'))\n",
        "model.add(Dense(4,activation = 'softmax'))\n",
        "model.summary()\n",
        "\n",
        "# Compile the model\n",
        "model.compile(optimizer='adam', loss='categorical_crossentropy', metrics=['accuracy'])\n",
        "\n"
      ]
    },
    {
      "cell_type": "code",
      "execution_count": 44,
      "metadata": {
        "colab": {
          "base_uri": "https://localhost:8080/"
        },
        "id": "I0BMxCxF6Cqz",
        "outputId": "e8260e62-a1d2-46ff-c503-f8a725d9eedd"
      },
      "outputs": [
        {
          "output_type": "stream",
          "name": "stdout",
          "text": [
            "Epoch 1/100\n",
            "45/45 [==============================] - 205s 5s/step - loss: 1.9172 - accuracy: 0.4037 - val_loss: 1.3097 - val_accuracy: 0.3824\n",
            "Epoch 2/100\n",
            "45/45 [==============================] - 16s 350ms/step - loss: 1.2561 - accuracy: 0.4901 - val_loss: 1.3347 - val_accuracy: 0.3382\n",
            "Epoch 3/100\n",
            "45/45 [==============================] - 16s 355ms/step - loss: 1.1412 - accuracy: 0.5071 - val_loss: 1.0938 - val_accuracy: 0.4265\n",
            "Epoch 4/100\n",
            "45/45 [==============================] - 16s 349ms/step - loss: 1.1285 - accuracy: 0.5113 - val_loss: 1.0578 - val_accuracy: 0.4265\n",
            "Epoch 5/100\n",
            "45/45 [==============================] - 16s 344ms/step - loss: 0.9959 - accuracy: 0.5609 - val_loss: 0.9600 - val_accuracy: 0.5000\n",
            "Epoch 6/100\n",
            "45/45 [==============================] - 17s 370ms/step - loss: 0.9007 - accuracy: 0.5921 - val_loss: 0.9365 - val_accuracy: 0.5441\n",
            "Epoch 7/100\n",
            "45/45 [==============================] - 16s 349ms/step - loss: 0.9249 - accuracy: 0.5878 - val_loss: 0.9070 - val_accuracy: 0.6176\n",
            "Epoch 8/100\n",
            "45/45 [==============================] - 16s 363ms/step - loss: 0.9183 - accuracy: 0.5949 - val_loss: 1.0949 - val_accuracy: 0.4412\n",
            "Epoch 9/100\n",
            "45/45 [==============================] - 16s 343ms/step - loss: 0.8467 - accuracy: 0.6119 - val_loss: 0.9445 - val_accuracy: 0.5882\n",
            "Epoch 10/100\n",
            "45/45 [==============================] - 16s 348ms/step - loss: 0.8041 - accuracy: 0.6317 - val_loss: 0.9570 - val_accuracy: 0.5147\n",
            "Epoch 11/100\n",
            "45/45 [==============================] - 16s 367ms/step - loss: 0.8098 - accuracy: 0.6161 - val_loss: 0.8682 - val_accuracy: 0.6765\n",
            "Epoch 12/100\n",
            "45/45 [==============================] - 15s 332ms/step - loss: 0.7770 - accuracy: 0.6714 - val_loss: 0.8184 - val_accuracy: 0.6765\n",
            "Epoch 13/100\n",
            "45/45 [==============================] - 16s 349ms/step - loss: 0.7414 - accuracy: 0.6586 - val_loss: 0.9169 - val_accuracy: 0.6176\n",
            "Epoch 14/100\n",
            "45/45 [==============================] - 16s 351ms/step - loss: 0.7607 - accuracy: 0.6530 - val_loss: 0.9886 - val_accuracy: 0.6029\n",
            "Epoch 15/100\n",
            "45/45 [==============================] - 16s 345ms/step - loss: 0.7752 - accuracy: 0.6487 - val_loss: 0.9220 - val_accuracy: 0.6324\n",
            "Epoch 16/100\n",
            "45/45 [==============================] - 17s 384ms/step - loss: 0.6714 - accuracy: 0.7096 - val_loss: 0.8218 - val_accuracy: 0.5882\n",
            "Epoch 17/100\n",
            "45/45 [==============================] - 16s 348ms/step - loss: 0.6956 - accuracy: 0.6771 - val_loss: 0.8722 - val_accuracy: 0.6765\n",
            "Epoch 18/100\n",
            "45/45 [==============================] - 16s 351ms/step - loss: 0.6588 - accuracy: 0.7040 - val_loss: 0.8303 - val_accuracy: 0.7500\n",
            "Epoch 19/100\n",
            "45/45 [==============================] - 15s 344ms/step - loss: 0.6265 - accuracy: 0.7280 - val_loss: 0.7804 - val_accuracy: 0.7353\n",
            "Epoch 20/100\n",
            "45/45 [==============================] - 16s 353ms/step - loss: 0.7039 - accuracy: 0.7096 - val_loss: 0.8628 - val_accuracy: 0.6765\n",
            "Epoch 21/100\n",
            "45/45 [==============================] - 16s 349ms/step - loss: 0.6280 - accuracy: 0.7295 - val_loss: 0.8092 - val_accuracy: 0.6618\n",
            "Epoch 22/100\n",
            "45/45 [==============================] - 16s 348ms/step - loss: 0.5869 - accuracy: 0.7550 - val_loss: 0.7719 - val_accuracy: 0.7059\n",
            "Epoch 23/100\n",
            "45/45 [==============================] - 16s 362ms/step - loss: 0.6213 - accuracy: 0.7578 - val_loss: 0.8136 - val_accuracy: 0.7353\n",
            "Epoch 24/100\n",
            "45/45 [==============================] - 16s 346ms/step - loss: 0.6313 - accuracy: 0.7351 - val_loss: 0.8272 - val_accuracy: 0.7353\n",
            "Epoch 25/100\n",
            "45/45 [==============================] - 15s 343ms/step - loss: 0.6012 - accuracy: 0.7280 - val_loss: 0.7358 - val_accuracy: 0.7206\n",
            "Epoch 26/100\n",
            "45/45 [==============================] - 15s 340ms/step - loss: 0.6175 - accuracy: 0.7280 - val_loss: 0.7407 - val_accuracy: 0.7941\n",
            "Epoch 27/100\n",
            "45/45 [==============================] - 16s 342ms/step - loss: 0.6239 - accuracy: 0.7465 - val_loss: 0.7556 - val_accuracy: 0.6912\n",
            "Epoch 28/100\n",
            "45/45 [==============================] - 16s 340ms/step - loss: 0.6084 - accuracy: 0.7422 - val_loss: 0.6195 - val_accuracy: 0.7794\n",
            "Epoch 29/100\n",
            "45/45 [==============================] - 15s 341ms/step - loss: 0.6117 - accuracy: 0.7465 - val_loss: 0.6286 - val_accuracy: 0.7941\n",
            "Epoch 30/100\n",
            "45/45 [==============================] - 16s 353ms/step - loss: 0.5670 - accuracy: 0.7734 - val_loss: 0.6136 - val_accuracy: 0.7647\n",
            "Epoch 31/100\n",
            "45/45 [==============================] - 15s 343ms/step - loss: 0.5491 - accuracy: 0.7677 - val_loss: 0.6879 - val_accuracy: 0.7206\n",
            "Epoch 32/100\n",
            "45/45 [==============================] - 15s 344ms/step - loss: 0.5974 - accuracy: 0.7465 - val_loss: 0.6229 - val_accuracy: 0.7794\n",
            "Epoch 33/100\n",
            "45/45 [==============================] - 16s 347ms/step - loss: 0.5583 - accuracy: 0.7720 - val_loss: 0.5768 - val_accuracy: 0.7794\n",
            "Epoch 34/100\n",
            "45/45 [==============================] - 15s 337ms/step - loss: 0.5398 - accuracy: 0.7578 - val_loss: 0.6438 - val_accuracy: 0.8088\n",
            "Epoch 35/100\n",
            "45/45 [==============================] - 16s 346ms/step - loss: 0.4838 - accuracy: 0.7946 - val_loss: 0.6263 - val_accuracy: 0.7206\n",
            "Epoch 36/100\n",
            "45/45 [==============================] - 16s 336ms/step - loss: 0.5110 - accuracy: 0.8130 - val_loss: 0.6159 - val_accuracy: 0.7647\n",
            "Epoch 37/100\n",
            "45/45 [==============================] - 15s 337ms/step - loss: 0.4852 - accuracy: 0.8116 - val_loss: 0.6654 - val_accuracy: 0.7059\n",
            "Epoch 38/100\n",
            "45/45 [==============================] - 15s 340ms/step - loss: 0.5061 - accuracy: 0.7890 - val_loss: 0.6241 - val_accuracy: 0.7941\n",
            "Epoch 39/100\n",
            "45/45 [==============================] - 16s 347ms/step - loss: 0.5222 - accuracy: 0.7762 - val_loss: 0.6210 - val_accuracy: 0.7353\n",
            "Epoch 40/100\n",
            "45/45 [==============================] - 15s 325ms/step - loss: 0.4952 - accuracy: 0.7748 - val_loss: 0.7086 - val_accuracy: 0.7500\n",
            "Epoch 41/100\n",
            "45/45 [==============================] - 15s 342ms/step - loss: 0.5254 - accuracy: 0.7875 - val_loss: 0.6996 - val_accuracy: 0.7353\n",
            "Epoch 42/100\n",
            "45/45 [==============================] - 16s 348ms/step - loss: 0.4853 - accuracy: 0.7960 - val_loss: 0.6267 - val_accuracy: 0.7941\n",
            "Epoch 43/100\n",
            "45/45 [==============================] - 16s 346ms/step - loss: 0.4842 - accuracy: 0.8003 - val_loss: 0.7121 - val_accuracy: 0.7353\n",
            "Epoch 44/100\n",
            "45/45 [==============================] - 15s 329ms/step - loss: 0.5465 - accuracy: 0.7564 - val_loss: 0.7401 - val_accuracy: 0.7500\n",
            "Epoch 45/100\n",
            "45/45 [==============================] - 15s 338ms/step - loss: 0.5030 - accuracy: 0.7904 - val_loss: 0.6679 - val_accuracy: 0.7206\n",
            "Epoch 46/100\n",
            "45/45 [==============================] - 15s 327ms/step - loss: 0.4473 - accuracy: 0.8031 - val_loss: 0.5944 - val_accuracy: 0.7500\n",
            "Epoch 47/100\n",
            "45/45 [==============================] - 15s 339ms/step - loss: 0.4605 - accuracy: 0.8173 - val_loss: 0.7330 - val_accuracy: 0.7206\n",
            "Epoch 48/100\n",
            "45/45 [==============================] - 16s 349ms/step - loss: 0.5061 - accuracy: 0.8031 - val_loss: 0.7733 - val_accuracy: 0.7206\n",
            "Epoch 49/100\n",
            "45/45 [==============================] - 15s 348ms/step - loss: 0.4906 - accuracy: 0.8059 - val_loss: 0.9377 - val_accuracy: 0.6618\n",
            "Epoch 50/100\n",
            "45/45 [==============================] - 16s 345ms/step - loss: 0.4670 - accuracy: 0.8102 - val_loss: 0.6871 - val_accuracy: 0.7941\n",
            "Epoch 51/100\n",
            "45/45 [==============================] - 16s 352ms/step - loss: 0.4614 - accuracy: 0.8187 - val_loss: 0.6273 - val_accuracy: 0.8088\n",
            "Epoch 52/100\n",
            "45/45 [==============================] - 15s 340ms/step - loss: 0.4167 - accuracy: 0.8286 - val_loss: 0.6480 - val_accuracy: 0.8235\n",
            "Epoch 53/100\n",
            "45/45 [==============================] - 15s 339ms/step - loss: 0.4356 - accuracy: 0.8130 - val_loss: 0.5877 - val_accuracy: 0.8529\n",
            "Epoch 54/100\n",
            "45/45 [==============================] - 15s 339ms/step - loss: 0.3871 - accuracy: 0.8654 - val_loss: 1.0233 - val_accuracy: 0.6912\n",
            "Epoch 55/100\n",
            "45/45 [==============================] - 15s 338ms/step - loss: 0.4247 - accuracy: 0.8074 - val_loss: 0.9239 - val_accuracy: 0.7794\n",
            "Epoch 56/100\n",
            "45/45 [==============================] - 15s 316ms/step - loss: 0.4437 - accuracy: 0.8201 - val_loss: 0.7672 - val_accuracy: 0.7206\n",
            "Epoch 57/100\n",
            "45/45 [==============================] - 16s 342ms/step - loss: 0.4389 - accuracy: 0.8045 - val_loss: 0.7274 - val_accuracy: 0.8382\n",
            "Epoch 58/100\n",
            "45/45 [==============================] - 15s 342ms/step - loss: 0.4192 - accuracy: 0.8343 - val_loss: 0.7205 - val_accuracy: 0.7647\n",
            "Epoch 59/100\n",
            "45/45 [==============================] - 16s 349ms/step - loss: 0.4022 - accuracy: 0.8470 - val_loss: 0.7479 - val_accuracy: 0.7647\n",
            "Epoch 60/100\n",
            "45/45 [==============================] - 15s 340ms/step - loss: 0.4273 - accuracy: 0.8385 - val_loss: 0.7390 - val_accuracy: 0.7941\n",
            "Epoch 61/100\n",
            "45/45 [==============================] - 15s 320ms/step - loss: 0.4272 - accuracy: 0.8399 - val_loss: 0.7875 - val_accuracy: 0.8088\n",
            "Epoch 62/100\n",
            "45/45 [==============================] - 15s 331ms/step - loss: 0.4093 - accuracy: 0.8584 - val_loss: 0.6619 - val_accuracy: 0.8235\n",
            "Epoch 63/100\n",
            "45/45 [==============================] - 16s 345ms/step - loss: 0.3842 - accuracy: 0.8584 - val_loss: 0.7473 - val_accuracy: 0.7647\n",
            "Epoch 64/100\n",
            "45/45 [==============================] - 16s 346ms/step - loss: 0.3970 - accuracy: 0.8569 - val_loss: 0.6288 - val_accuracy: 0.8382\n",
            "Epoch 65/100\n",
            "45/45 [==============================] - 15s 341ms/step - loss: 0.4476 - accuracy: 0.8272 - val_loss: 0.5651 - val_accuracy: 0.8676\n",
            "Epoch 66/100\n",
            "45/45 [==============================] - 15s 336ms/step - loss: 0.4414 - accuracy: 0.8371 - val_loss: 0.7466 - val_accuracy: 0.7794\n",
            "Epoch 67/100\n",
            "45/45 [==============================] - 15s 343ms/step - loss: 0.4035 - accuracy: 0.8484 - val_loss: 0.8275 - val_accuracy: 0.6912\n",
            "Epoch 68/100\n",
            "45/45 [==============================] - 15s 329ms/step - loss: 0.4197 - accuracy: 0.8357 - val_loss: 0.7269 - val_accuracy: 0.7647\n",
            "Epoch 69/100\n",
            "45/45 [==============================] - 15s 340ms/step - loss: 0.3607 - accuracy: 0.8612 - val_loss: 0.7206 - val_accuracy: 0.7941\n",
            "Epoch 70/100\n",
            "45/45 [==============================] - 15s 318ms/step - loss: 0.3777 - accuracy: 0.8527 - val_loss: 0.6505 - val_accuracy: 0.8382\n",
            "Epoch 71/100\n",
            "45/45 [==============================] - 15s 327ms/step - loss: 0.3915 - accuracy: 0.8385 - val_loss: 0.5953 - val_accuracy: 0.8088\n",
            "Epoch 72/100\n",
            "45/45 [==============================] - 15s 333ms/step - loss: 0.3913 - accuracy: 0.8470 - val_loss: 0.5632 - val_accuracy: 0.8235\n",
            "Epoch 73/100\n",
            "45/45 [==============================] - 16s 340ms/step - loss: 0.3333 - accuracy: 0.8796 - val_loss: 0.6120 - val_accuracy: 0.8676\n",
            "Epoch 74/100\n",
            "45/45 [==============================] - 15s 338ms/step - loss: 0.3986 - accuracy: 0.8286 - val_loss: 0.7310 - val_accuracy: 0.7647\n",
            "Epoch 75/100\n",
            "45/45 [==============================] - 15s 340ms/step - loss: 0.3627 - accuracy: 0.8555 - val_loss: 0.5759 - val_accuracy: 0.8235\n",
            "Epoch 76/100\n",
            "45/45 [==============================] - 15s 344ms/step - loss: 0.3142 - accuracy: 0.8895 - val_loss: 0.7854 - val_accuracy: 0.7647\n",
            "Epoch 77/100\n",
            "45/45 [==============================] - 15s 337ms/step - loss: 0.3612 - accuracy: 0.8626 - val_loss: 0.5471 - val_accuracy: 0.8529\n",
            "Epoch 78/100\n",
            "45/45 [==============================] - 15s 338ms/step - loss: 0.3153 - accuracy: 0.8839 - val_loss: 0.7356 - val_accuracy: 0.8382\n",
            "Epoch 79/100\n",
            "45/45 [==============================] - 15s 336ms/step - loss: 0.3477 - accuracy: 0.8555 - val_loss: 0.7252 - val_accuracy: 0.7500\n",
            "Epoch 80/100\n",
            "45/45 [==============================] - 16s 335ms/step - loss: 0.3691 - accuracy: 0.8626 - val_loss: 0.6210 - val_accuracy: 0.8382\n",
            "Epoch 81/100\n",
            "45/45 [==============================] - 15s 341ms/step - loss: 0.3693 - accuracy: 0.8598 - val_loss: 0.6169 - val_accuracy: 0.7941\n",
            "Epoch 82/100\n",
            "45/45 [==============================] - 15s 319ms/step - loss: 0.3557 - accuracy: 0.8584 - val_loss: 0.6503 - val_accuracy: 0.8235\n",
            "Epoch 83/100\n",
            "45/45 [==============================] - 15s 344ms/step - loss: 0.3871 - accuracy: 0.8499 - val_loss: 0.7206 - val_accuracy: 0.7353\n",
            "Epoch 84/100\n",
            "45/45 [==============================] - 15s 337ms/step - loss: 0.3717 - accuracy: 0.8569 - val_loss: 0.6630 - val_accuracy: 0.7794\n",
            "Epoch 85/100\n",
            "45/45 [==============================] - 15s 346ms/step - loss: 0.3902 - accuracy: 0.8513 - val_loss: 0.7467 - val_accuracy: 0.7941\n",
            "Epoch 86/100\n",
            "45/45 [==============================] - 15s 334ms/step - loss: 0.3862 - accuracy: 0.8428 - val_loss: 0.6539 - val_accuracy: 0.7941\n",
            "Epoch 87/100\n",
            "45/45 [==============================] - 15s 340ms/step - loss: 0.3274 - accuracy: 0.8782 - val_loss: 0.6733 - val_accuracy: 0.8529\n",
            "Epoch 88/100\n",
            "45/45 [==============================] - 16s 344ms/step - loss: 0.3091 - accuracy: 0.8895 - val_loss: 0.8193 - val_accuracy: 0.7794\n",
            "Epoch 89/100\n",
            "45/45 [==============================] - 16s 343ms/step - loss: 0.3195 - accuracy: 0.8739 - val_loss: 0.6145 - val_accuracy: 0.7941\n",
            "Epoch 90/100\n",
            "45/45 [==============================] - 15s 335ms/step - loss: 0.3544 - accuracy: 0.8513 - val_loss: 0.5744 - val_accuracy: 0.7941\n",
            "Epoch 91/100\n",
            "45/45 [==============================] - 15s 338ms/step - loss: 0.4051 - accuracy: 0.8399 - val_loss: 0.5380 - val_accuracy: 0.8235\n",
            "Epoch 92/100\n",
            "45/45 [==============================] - 15s 343ms/step - loss: 0.3224 - accuracy: 0.8782 - val_loss: 0.6292 - val_accuracy: 0.8235\n",
            "Epoch 93/100\n",
            "45/45 [==============================] - 15s 336ms/step - loss: 0.3294 - accuracy: 0.8796 - val_loss: 0.6617 - val_accuracy: 0.8382\n",
            "Epoch 94/100\n",
            "45/45 [==============================] - 15s 321ms/step - loss: 0.3832 - accuracy: 0.8584 - val_loss: 0.6897 - val_accuracy: 0.8529\n",
            "Epoch 95/100\n",
            "45/45 [==============================] - 16s 338ms/step - loss: 0.3160 - accuracy: 0.8810 - val_loss: 0.5988 - val_accuracy: 0.8529\n",
            "Epoch 96/100\n",
            "45/45 [==============================] - 15s 338ms/step - loss: 0.3392 - accuracy: 0.8739 - val_loss: 0.5842 - val_accuracy: 0.8529\n",
            "Epoch 97/100\n",
            "45/45 [==============================] - 16s 346ms/step - loss: 0.2686 - accuracy: 0.8839 - val_loss: 0.6110 - val_accuracy: 0.8382\n",
            "Epoch 98/100\n",
            "45/45 [==============================] - 15s 340ms/step - loss: 0.3308 - accuracy: 0.8909 - val_loss: 0.7453 - val_accuracy: 0.8088\n",
            "Epoch 99/100\n",
            "45/45 [==============================] - 15s 343ms/step - loss: 0.3303 - accuracy: 0.8654 - val_loss: 0.5690 - val_accuracy: 0.8235\n",
            "Epoch 100/100\n",
            "45/45 [==============================] - 15s 329ms/step - loss: 0.3351 - accuracy: 0.8711 - val_loss: 0.6770 - val_accuracy: 0.8529\n"
          ]
        }
      ],
      "source": [
        "reduce_lr = tf.keras.callbacks.ReduceLROnPlateau(\n",
        "    monitor='val_loss', factor=0.2, patience=3, min_lr=0.0001\n",
        ")\n",
        "\n",
        "callbacks = [\n",
        "    tf.keras.callbacks.EarlyStopping(patience=5),\n",
        "    tf.keras.callbacks.ModelCheckpoint('model.h5',save_best_only=True),\n",
        "    tf.keras.callbacks.TensorBoard(log_dir='logs'),\n",
        "    reduce_lr\n",
        "]\n",
        "results = model.fit(train_data, validation_data=valid_data, epochs=100, verbose=1)\n"
      ]
    },
    {
      "cell_type": "code",
      "execution_count": null,
      "metadata": {
        "id": "KJlesVZDi3Td"
      },
      "outputs": [],
      "source": [
        "model.save('/content/drive/MyDrive/ModelData')"
      ]
    },
    {
      "cell_type": "code",
      "source": [
        "\n",
        "Tumour_detect = load_model('/content/drive/MyDrive/ModelData')\n"
      ],
      "metadata": {
        "id": "nHnnicj_JxjM"
      },
      "execution_count": 57,
      "outputs": []
    },
    {
      "cell_type": "code",
      "source": [
        "loss, acc = Tumour_detect.evaluate(test_data,verbose = 1)"
      ],
      "metadata": {
        "id": "nkj7NlywKOiK",
        "outputId": "6abd3f1e-801d-487c-ebd2-20feb81204e4",
        "colab": {
          "base_uri": "https://localhost:8080/"
        }
      },
      "execution_count": 56,
      "outputs": [
        {
          "output_type": "stream",
          "name": "stdout",
          "text": [
            "13/13 [==============================] - 6s 450ms/step - loss: 0.3529 - accuracy: 0.8878\n"
          ]
        }
      ]
    },
    {
      "cell_type": "markdown",
      "source": [
        "# Evaluation"
      ],
      "metadata": {
        "id": "YPukwveeI3Y0"
      }
    },
    {
      "cell_type": "code",
      "source": [
        "#imports\n",
        "from sklearn.metrics import classification_report,confusion_matrix\n",
        "import matplotlib.pyplot as plt\n",
        "from tensorflow.keras.preprocessing import image\n",
        "import seaborn as sns\n",
        "import numpy as np\n",
        "import cv2\n"
      ],
      "metadata": {
        "id": "2E1_Vb0fJV3p"
      },
      "execution_count": 49,
      "outputs": []
    },
    {
      "cell_type": "code",
      "source": [
        "res = results.history\n",
        "train_acc = res['accuracy']\n",
        "val_accuracy = res['val_accuracy']\n",
        "epochs = range(1, len(train_acc) + 1)\n",
        "\n",
        "line1 = plt.plot(epochs, val_accuracy, label = 'Validation/Test Accuracy')\n",
        "line2 = plt.plot(epochs, train_acc, label = 'Training Accuracy')\n",
        "\n",
        "plt.setp(line1, linewidth = 1.8, marker = 'o', markersize = 6.5)\n",
        "plt.setp(line2, linewidth = 1.8, marker = 's', markersize = 5)\n",
        "plt.xlabel('Epochs')\n",
        "plt.ylabel('Accuracy')\n",
        "plt.grid(True)\n",
        "plt.legend()\n",
        "plt.show()"
      ],
      "metadata": {
        "colab": {
          "base_uri": "https://localhost:8080/",
          "height": 449
        },
        "id": "Nhw72FVzyQgH",
        "outputId": "daaaf757-7f3b-4d9b-9c02-0916ca3eafda"
      },
      "execution_count": 46,
      "outputs": [
        {
          "output_type": "display_data",
          "data": {
            "text/plain": [
              "<Figure size 640x480 with 1 Axes>"
            ],
            "image/png": "[encoded data removed]"
          },
          "metadata": {}
        }
      ]
    }
  ],
  "metadata": {
    "accelerator": "GPU",
    "colab": {
      "provenance": [],
      "mount_file_id": "1JjNRTBdVY_6XEXVJNyC7rIYRrbi8wQzt",
      "authorship_tag": "ABX9TyPIKQ/xurAgSNGTJTLitdng",
      "include_colab_link": true
    },
    "kernelspec": {
      "display_name": "Python 3",
      "name": "python3"
    },
    "language_info": {
      "name": "python"
    }
  },
  "nbformat": 4,
  "nbformat_minor": 0
}
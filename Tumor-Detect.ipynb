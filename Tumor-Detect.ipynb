{
  "cells": [
    {
      "cell_type": "markdown",
      "metadata": {
        "id": "view-in-github",
        "colab_type": "text"
      },
      "source": [
        "<a href=\"https://colab.research.google.com/github/rayen03/Tumor-Detect/blob/main/Tumor-Detect.ipynb\" target=\"_parent\"><img src=\"https://colab.research.google.com/assets/colab-badge.svg\" alt=\"Open In Colab\"/></a>"
      ]
    },
    {
      "cell_type": "code",
      "execution_count": null,
      "metadata": {
        "colab": {
          "base_uri": "https://localhost:8080/"
        },
        "id": "SImlGLO8soOx",
        "outputId": "96457b8c-a7d7-41c1-a5dd-1aba0d3f6d96"
      },
      "outputs": [
        {
          "name": "stdout",
          "output_type": "stream",
          "text": [
            "Requirement already satisfied: opencv-python in /usr/local/lib/python3.10/dist-packages (4.8.0.76)\n",
            "Requirement already satisfied: matplotlib in /usr/local/lib/python3.10/dist-packages (3.7.1)\n",
            "Requirement already satisfied: numpy>=1.21.2 in /usr/local/lib/python3.10/dist-packages (from opencv-python) (1.23.5)\n",
            "Requirement already satisfied: contourpy>=1.0.1 in /usr/local/lib/python3.10/dist-packages (from matplotlib) (1.1.1)\n",
            "Requirement already satisfied: cycler>=0.10 in /usr/local/lib/python3.10/dist-packages (from matplotlib) (0.12.1)\n",
            "Requirement already satisfied: fonttools>=4.22.0 in /usr/local/lib/python3.10/dist-packages (from matplotlib) (4.43.1)\n",
            "Requirement already satisfied: kiwisolver>=1.0.1 in /usr/local/lib/python3.10/dist-packages (from matplotlib) (1.4.5)\n",
            "Requirement already satisfied: packaging>=20.0 in /usr/local/lib/python3.10/dist-packages (from matplotlib) (23.2)\n",
            "Requirement already satisfied: pillow>=6.2.0 in /usr/local/lib/python3.10/dist-packages (from matplotlib) (9.4.0)\n",
            "Requirement already satisfied: pyparsing>=2.3.1 in /usr/local/lib/python3.10/dist-packages (from matplotlib) (3.1.1)\n",
            "Requirement already satisfied: python-dateutil>=2.7 in /usr/local/lib/python3.10/dist-packages (from matplotlib) (2.8.2)\n",
            "Requirement already satisfied: six>=1.5 in /usr/local/lib/python3.10/dist-packages (from python-dateutil>=2.7->matplotlib) (1.16.0)\n"
          ]
        }
      ],
      "source": [
        "pip install opencv-python matplotlib"
      ]
    },
    {
      "cell_type": "code",
      "execution_count": null,
      "metadata": {
        "colab": {
          "base_uri": "https://localhost:8080/"
        },
        "id": "yPX-_7RovS6T",
        "outputId": "904b4ef3-86f4-4656-a975-42405d783436"
      },
      "outputs": [
        {
          "output_type": "stream",
          "name": "stdout",
          "text": [
            "Drive already mounted at /content/drive; to attempt to forcibly remount, call drive.mount(\"/content/drive\", force_remount=True).\n"
          ]
        }
      ],
      "source": [
        "import tensorflow as tf\n",
        "import os\n",
        "import cv2\n",
        "from google.colab import drive\n",
        "drive.mount('/content/drive')"
      ]
    },
    {
      "cell_type": "code",
      "execution_count": null,
      "metadata": {
        "colab": {
          "base_uri": "https://localhost:8080/"
        },
        "id": "u4q2i51uLERs",
        "outputId": "90b8b26a-3993-47b2-c5df-2704cf1ccc40"
      },
      "outputs": [
        {
          "output_type": "execute_result",
          "data": {
            "text/plain": [
              "['test', 'train', 'valid']"
            ]
          },
          "metadata": {},
          "execution_count": 2
        }
      ],
      "source": [
        "dataDir='/content/drive/MyDrive/Data'\n",
        "train_folder ='/content/drive/MyDrive/Data/train'\n",
        "valid_folder = '/content/drive/MyDrive/Data/valid'\n",
        "test_folder = '/content/drive/MyDrive/Data/test'\n",
        "os.listdir(dataDir)"
      ]
    },
    {
      "cell_type": "code",
      "execution_count": null,
      "metadata": {
        "colab": {
          "base_uri": "https://localhost:8080/"
        },
        "id": "dlaqt2Zx4YAB",
        "outputId": "6b8d1a91-8fb2-48df-ffa0-60536ec15fef"
      },
      "outputs": [
        {
          "data": {
            "text/plain": [
              "['test', 'train', 'valid']"
            ]
          },
          "execution_count": 3,
          "metadata": {},
          "output_type": "execute_result"
        }
      ],
      "source": [
        "dataDir='/content/drive/MyDrive/Data-copy'\n",
        "train_folder ='/content/drive/MyDrive/Data-copy/train'\n",
        "valid_folder = '/content/drive/MyDrive/Data-copy/valid'\n",
        "test_folder = '/content/drive/MyDrive/Data-copy/test'\n",
        "os.listdir(dataDir)"
      ]
    },
    {
      "cell_type": "code",
      "execution_count": null,
      "metadata": {
        "colab": {
          "base_uri": "https://localhost:8080/"
        },
        "id": "8-AbRAjYicnS",
        "outputId": "42357ce1-2938-4053-9a28-8c34143918a8"
      },
      "outputs": [
        {
          "output_type": "execute_result",
          "data": {
            "text/plain": [
              "['adenocarcinoma', 'large.cell.carcinoma', 'normal', 'squamous.cell.carcinoma']"
            ]
          },
          "metadata": {},
          "execution_count": 3
        }
      ],
      "source": [
        "Cclasses = os.listdir(test_folder)\n",
        "Cclasses"
      ]
    },
    {
      "cell_type": "code",
      "execution_count": null,
      "metadata": {
        "id": "ocg5e1_VF_4O"
      },
      "outputs": [],
      "source": [
        "\n",
        "#deleting corrupted files\n",
        "from PIL import Image\n",
        "\n",
        "\n",
        "def filter_images(folder_path):\n",
        "    for root, dirs, files in os.walk(folder_path):\n",
        "        for filename in files:\n",
        "            file_path = os.path.join(root, filename)\n",
        "\n",
        "            if file_path.lower().endswith(('.png', '.jpg', '.jpeg', '.gif', '.bmp')):\n",
        "                try:\n",
        "\n",
        "                    with Image.open(file_path) as img:\n",
        "                        img.verify()\n",
        "                except OSError:\n",
        "\n",
        "                    print(f\"Removing: {file_path}\")\n",
        "                    os.remove(file_path)\n",
        "            else:\n",
        "\n",
        "                print(f\"Removing: {file_path} - Unsupported file type\")\n",
        "                os.remove(file_path)\n",
        "\n",
        "filter_images(test_folder)\n",
        "filter_images(train_folder)\n",
        "filter_images(valid_folder)\n"
      ]
    },
    {
      "cell_type": "code",
      "execution_count": null,
      "metadata": {
        "colab": {
          "base_uri": "https://localhost:8080/",
          "height": 245
        },
        "id": "BgneCH5E7wyY",
        "outputId": "80c27bb8-ee59-4ec8-eac2-01d53e616ab6"
      },
      "outputs": [
        {
          "ename": "FileNotFoundError",
          "evalue": "ignored",
          "output_type": "error",
          "traceback": [
            "\u001b[0;31m---------------------------------------------------------------------------\u001b[0m",
            "\u001b[0;31mFileNotFoundError\u001b[0m                         Traceback (most recent call last)",
            "\u001b[0;32m<ipython-input-5-cd658b01cb50>\u001b[0m in \u001b[0;36m<cell line: 8>\u001b[0;34m()\u001b[0m\n\u001b[1;32m      8\u001b[0m \u001b[0;32mfor\u001b[0m \u001b[0mclass_name\u001b[0m \u001b[0;32min\u001b[0m \u001b[0mCclasses\u001b[0m\u001b[0;34m:\u001b[0m\u001b[0;34m\u001b[0m\u001b[0;34m\u001b[0m\u001b[0m\n\u001b[1;32m      9\u001b[0m     \u001b[0mclass_folder\u001b[0m \u001b[0;34m=\u001b[0m \u001b[0mos\u001b[0m\u001b[0;34m.\u001b[0m\u001b[0mpath\u001b[0m\u001b[0;34m.\u001b[0m\u001b[0mjoin\u001b[0m\u001b[0;34m(\u001b[0m\u001b[0mdataDir\u001b[0m\u001b[0;34m,\u001b[0m \u001b[0mclass_name\u001b[0m\u001b[0;34m)\u001b[0m\u001b[0;34m\u001b[0m\u001b[0;34m\u001b[0m\u001b[0m\n\u001b[0;32m---> 10\u001b[0;31m     \u001b[0mclass_files\u001b[0m \u001b[0;34m=\u001b[0m \u001b[0mos\u001b[0m\u001b[0;34m.\u001b[0m\u001b[0mlistdir\u001b[0m\u001b[0;34m(\u001b[0m\u001b[0mclass_folder\u001b[0m\u001b[0;34m)\u001b[0m\u001b[0;34m\u001b[0m\u001b[0;34m\u001b[0m\u001b[0m\n\u001b[0m\u001b[1;32m     11\u001b[0m     \u001b[0mX\u001b[0m\u001b[0;34m.\u001b[0m\u001b[0mextend\u001b[0m\u001b[0;34m(\u001b[0m\u001b[0;34m[\u001b[0m\u001b[0mos\u001b[0m\u001b[0;34m.\u001b[0m\u001b[0mpath\u001b[0m\u001b[0;34m.\u001b[0m\u001b[0mjoin\u001b[0m\u001b[0;34m(\u001b[0m\u001b[0mclass_folder\u001b[0m\u001b[0;34m,\u001b[0m \u001b[0mfile\u001b[0m\u001b[0;34m)\u001b[0m \u001b[0;32mfor\u001b[0m \u001b[0mfile\u001b[0m \u001b[0;32min\u001b[0m \u001b[0mclass_files\u001b[0m\u001b[0;34m]\u001b[0m\u001b[0;34m)\u001b[0m\u001b[0;34m\u001b[0m\u001b[0;34m\u001b[0m\u001b[0m\n\u001b[1;32m     12\u001b[0m     \u001b[0my\u001b[0m\u001b[0;34m.\u001b[0m\u001b[0mextend\u001b[0m\u001b[0;34m(\u001b[0m\u001b[0;34m[\u001b[0m\u001b[0mclass_name\u001b[0m\u001b[0;34m]\u001b[0m \u001b[0;34m*\u001b[0m \u001b[0mlen\u001b[0m\u001b[0;34m(\u001b[0m\u001b[0mclass_files\u001b[0m\u001b[0;34m)\u001b[0m\u001b[0;34m)\u001b[0m\u001b[0;34m\u001b[0m\u001b[0;34m\u001b[0m\u001b[0m\n",
            "\u001b[0;31mFileNotFoundError\u001b[0m: [Errno 2] No such file or directory: '/content/drive/MyDrive/Data-copy/adenocarcinoma'"
          ]
        }
      ],
      "source": []
    },
    {
      "cell_type": "code",
      "execution_count": null,
      "metadata": {
        "colab": {
          "base_uri": "https://localhost:8080/"
        },
        "id": "G7hU85t7qt6J",
        "outputId": "6b83c40f-8c35-46ea-8bbc-272a45b3b171"
      },
      "outputs": [
        {
          "name": "stdout",
          "output_type": "stream",
          "text": [
            "Folder: /content/drive/MyDrive/Data/test\n",
            "  Class: adenocarcinoma - Count: 62 - Percentage: 30.24%\n",
            "  Class: large.cell.carcinoma - Count: 40 - Percentage: 19.51%\n",
            "  Class: normal - Count: 38 - Percentage: 18.54%\n",
            "  Class: squamous.cell.carcinoma - Count: 65 - Percentage: 31.71%\n",
            "  Total Files: 205\n",
            "\n",
            "Folder: /content/drive/MyDrive/Data/train\n",
            "  Class: adenocarcinoma - Count: 230 - Percentage: 33.92%\n",
            "  Class: large.cell.carcinoma - Count: 114 - Percentage: 16.81%\n",
            "  Class: normal - Count: 154 - Percentage: 22.71%\n",
            "  Class: squamous.cell.carcinoma - Count: 180 - Percentage: 26.55%\n",
            "  Total Files: 678\n",
            "\n",
            "Folder: /content/drive/MyDrive/Data/valid\n",
            "  Class: adenocarcinoma - Count: 23 - Percentage: 33.82%\n",
            "  Class: large.cell.carcinoma - Count: 17 - Percentage: 25.00%\n",
            "  Class: normal - Count: 13 - Percentage: 19.12%\n",
            "  Class: squamous.cell.carcinoma - Count: 15 - Percentage: 22.06%\n",
            "  Total Files: 68\n",
            "\n"
          ]
        }
      ],
      "source": [
        "\n",
        "\n",
        "\n",
        "# Function to count the number of files in a folder\n",
        "def count_files(folder_path):\n",
        "    try:\n",
        "        with os.scandir(folder_path) as entries:\n",
        "            return sum(1 for entry in entries if entry.is_file() and not entry.name.startswith('.'))\n",
        "    except OSError as e:\n",
        "        print(f\"Error counting files in {folder_path}: {e}\")\n",
        "        return 0\n",
        "\n",
        "# Function to calculate the percentage of files in a folder\n",
        "def calculate_percentage(folder_path, total_files):\n",
        "    folder_files = count_files(folder_path)\n",
        "    return (folder_files / total_files) * 100 if total_files > 0 else 0\n",
        "\n",
        "# Iterate through test, train, and valid folders\n",
        "for folder in [test_folder, train_folder, valid_folder]:\n",
        "    total_files = sum([count_files(os.path.join(folder, class_name)) for class_name in Cclasses])\n",
        "\n",
        "    print(f\"Folder: {folder}\")\n",
        "    for class_name in Cclasses:\n",
        "        class_folder = os.path.join(folder, class_name)\n",
        "        class_count = count_files(class_folder)\n",
        "        class_percentage = calculate_percentage(class_folder, total_files)\n",
        "        print(f\"  Class: {class_name} - Count: {class_count} - Percentage: {class_percentage:.2f}%\")\n",
        "\n",
        "    print(f\"  Total Files: {total_files}\")\n",
        "    print()\n",
        "\n"
      ]
    },
    {
      "cell_type": "code",
      "execution_count": null,
      "metadata": {
        "colab": {
          "base_uri": "https://localhost:8080/"
        },
        "id": "ta1p5Cqi0RVv",
        "outputId": "435b076f-7ab9-4323-aab2-6eafbbafec79"
      },
      "outputs": [
        {
          "output_type": "stream",
          "name": "stdout",
          "text": [
            "Found 678 images belonging to 4 classes.\n",
            "Found 68 images belonging to 4 classes.\n",
            "Found 205 images belonging to 4 classes.\n"
          ]
        }
      ],
      "source": [
        "from tensorflow.keras.preprocessing.image import ImageDataGenerator\n",
        "from tensorflow.keras.applications.mobilenet_v2 import preprocess_input\n",
        "\n",
        "from keras.utils import to_categorical\n",
        "from sklearn.utils import shuffle\n",
        "\n",
        "#buiding generators\n",
        "basic_gen = ImageDataGenerator(\n",
        "    preprocessing_function = preprocess_input,\n",
        "    dtype = 'float32'\n",
        ")\n",
        "train_gen = ImageDataGenerator(\n",
        "    preprocessing_function = preprocess_input,\n",
        "    rotation_range = 20,\n",
        "    width_shift_range = 0.3,\n",
        "    height_shift_range = 0.3,\n",
        "    zoom_range = 0.2,\n",
        "    horizontal_flip = True,\n",
        "    vertical_flip = True,\n",
        "    dtype = 'float32'\n",
        ")\n",
        "#data gen\n",
        "train_data = train_gen.flow_from_directory(\n",
        "    train_folder,\n",
        "    target_size = (224,224),\n",
        "    batch_size = 16,\n",
        "    class_mode = 'categorical'\n",
        ")\n",
        "\n",
        "valid_data = basic_gen.flow_from_directory(\n",
        "    valid_folder,\n",
        "    target_size = (224,224),\n",
        "    batch_size = 16,\n",
        "    class_mode = 'categorical'\n",
        ")\n",
        "\n",
        "test_data = basic_gen.flow_from_directory(\n",
        "    test_folder,\n",
        "    target_size = (224,224),\n",
        "    batch_size = 16,\n",
        "    class_mode = 'categorical',\n",
        "    shuffle = False\n",
        ")\n",
        "\n"
      ]
    },
    {
      "cell_type": "code",
      "execution_count": null,
      "metadata": {
        "colab": {
          "base_uri": "https://localhost:8080/"
        },
        "id": "dEHtL777QMMI",
        "outputId": "c0e335ee-76ec-4533-d0c5-243a6f6fbf09"
      },
      "outputs": [
        {
          "output_type": "stream",
          "name": "stdout",
          "text": [
            "Model: \"sequential_1\"\n",
            "_________________________________________________________________\n",
            " Layer (type)                Output Shape              Param #   \n",
            "=================================================================\n",
            " vgg16 (Functional)          (None, 7, 7, 512)         14714688  \n",
            "                                                                 \n",
            " batch_normalization_5 (Bat  (None, 7, 7, 512)         2048      \n",
            " chNormalization)                                                \n",
            "                                                                 \n",
            " max_pooling2d_1 (MaxPoolin  (None, 3, 3, 512)         0         \n",
            " g2D)                                                            \n",
            "                                                                 \n",
            " flatten_1 (Flatten)         (None, 4608)              0         \n",
            "                                                                 \n",
            " dense_5 (Dense)             (None, 1024)              4719616   \n",
            "                                                                 \n",
            " dropout_2 (Dropout)         (None, 1024)              0         \n",
            "                                                                 \n",
            " dense_6 (Dense)             (None, 512)               524800    \n",
            "                                                                 \n",
            " dropout_3 (Dropout)         (None, 512)               0         \n",
            "                                                                 \n",
            " dense_7 (Dense)             (None, 256)               131328    \n",
            "                                                                 \n",
            " dense_8 (Dense)             (None, 128)               32896     \n",
            "                                                                 \n",
            " dense_9 (Dense)             (None, 4)                 516       \n",
            "                                                                 \n",
            "=================================================================\n",
            "Total params: 20125892 (76.77 MB)\n",
            "Trainable params: 5410180 (20.64 MB)\n",
            "Non-trainable params: 14715712 (56.14 MB)\n",
            "_________________________________________________________________\n",
            "Model: \"sequential_1\"\n",
            "_________________________________________________________________\n",
            " Layer (type)                Output Shape              Param #   \n",
            "=================================================================\n",
            " vgg16 (Functional)          (None, 7, 7, 512)         14714688  \n",
            "                                                                 \n",
            " batch_normalization_5 (Bat  (None, 7, 7, 512)         2048      \n",
            " chNormalization)                                                \n",
            "                                                                 \n",
            " max_pooling2d_1 (MaxPoolin  (None, 3, 3, 512)         0         \n",
            " g2D)                                                            \n",
            "                                                                 \n",
            " flatten_1 (Flatten)         (None, 4608)              0         \n",
            "                                                                 \n",
            " dense_5 (Dense)             (None, 1024)              4719616   \n",
            "                                                                 \n",
            " dropout_2 (Dropout)         (None, 1024)              0         \n",
            "                                                                 \n",
            " dense_6 (Dense)             (None, 512)               524800    \n",
            "                                                                 \n",
            " dropout_3 (Dropout)         (None, 512)               0         \n",
            "                                                                 \n",
            " dense_7 (Dense)             (None, 256)               131328    \n",
            "                                                                 \n",
            " dense_8 (Dense)             (None, 128)               32896     \n",
            "                                                                 \n",
            " dense_9 (Dense)             (None, 4)                 516       \n",
            "                                                                 \n",
            "=================================================================\n",
            "Total params: 20125892 (76.77 MB)\n",
            "Trainable params: 5410180 (20.64 MB)\n",
            "Non-trainable params: 14715712 (56.14 MB)\n",
            "_________________________________________________________________\n"
          ]
        }
      ],
      "source": [
        "from tensorflow.keras.applications import VGG16\n",
        "from tensorflow.keras.regularizers import l2\n",
        "from keras.src.metrics.confusion_metrics import activations\n",
        "from tensorflow.keras.models import Sequential\n",
        "from tensorflow.keras.layers import Conv2D,Dense,MaxPooling2D,Flatten,BatchNormalization,Dropout,Activation\n",
        "\n",
        "input_shape=(224,224,3)\n",
        "\n",
        "base_model = VGG16(\n",
        "    include_top = False,\n",
        "    weights=\"imagenet\",\n",
        "    input_shape = input_shape\n",
        ")\n",
        "\n",
        "#freezing layer to use the model as feature extractor\n",
        "for layer in base_model.layers:\n",
        "    layer.trainable = False\n",
        "\n",
        "\n",
        "model = Sequential()\n",
        "model.add(base_model)\n",
        "model.add(BatchNormalization())\n",
        "model.add(MaxPooling2D((2,2)))\n",
        "model.add(Flatten())\n",
        "model.add(Dense(1024,activation = 'relu'))\n",
        "model.add(Dropout(0.3))\n",
        "model.add(Dense(512,activation = 'relu'))\n",
        "model.add(Dropout(0.3))\n",
        "model.add(Dense(256,activation = 'relu'))\n",
        "model.add(Dense(128,activation = 'relu'))\n",
        "model.add(Dense(4,activation = 'softmax'))\n",
        "model.summary()\n",
        "model.summary()\n",
        "# Compile the model\n",
        "model.compile(optimizer='adam', loss='categorical_crossentropy', metrics=['accuracy'])\n",
        "\n"
      ]
    },
    {
      "cell_type": "code",
      "execution_count": null,
      "metadata": {
        "colab": {
          "base_uri": "https://localhost:8080/"
        },
        "id": "I0BMxCxF6Cqz",
        "outputId": "c43c0657-7d69-409a-c0de-5d00416df04a"
      },
      "outputs": [
        {
          "output_type": "stream",
          "name": "stdout",
          "text": [
            "Epoch 1/120\n",
            "43/43 [==============================] - 18s 353ms/step - loss: 1.6806 - accuracy: 0.3938 - val_loss: 1.2378 - val_accuracy: 0.3824\n",
            "Epoch 2/120\n",
            "43/43 [==============================] - 15s 343ms/step - loss: 1.1867 - accuracy: 0.4587 - val_loss: 1.1577 - val_accuracy: 0.3676\n",
            "Epoch 3/120\n",
            "43/43 [==============================] - 15s 355ms/step - loss: 1.0713 - accuracy: 0.5029 - val_loss: 1.1766 - val_accuracy: 0.3824\n",
            "Epoch 4/120\n",
            "43/43 [==============================] - 15s 354ms/step - loss: 0.9818 - accuracy: 0.5221 - val_loss: 1.0206 - val_accuracy: 0.4853\n",
            "Epoch 5/120\n",
            "43/43 [==============================] - 15s 351ms/step - loss: 1.0018 - accuracy: 0.5560 - val_loss: 0.9896 - val_accuracy: 0.5000\n",
            "Epoch 6/120\n",
            "43/43 [==============================] - 15s 338ms/step - loss: 0.9983 - accuracy: 0.5324 - val_loss: 1.0348 - val_accuracy: 0.4853\n",
            "Epoch 7/120\n",
            "43/43 [==============================] - 15s 351ms/step - loss: 0.8685 - accuracy: 0.6121 - val_loss: 0.9840 - val_accuracy: 0.4706\n",
            "Epoch 8/120\n",
            "43/43 [==============================] - 15s 353ms/step - loss: 0.9178 - accuracy: 0.5767 - val_loss: 0.9990 - val_accuracy: 0.4706\n",
            "Epoch 9/120\n",
            "43/43 [==============================] - 15s 351ms/step - loss: 0.8778 - accuracy: 0.5900 - val_loss: 0.9625 - val_accuracy: 0.5735\n",
            "Epoch 10/120\n",
            "43/43 [==============================] - 15s 350ms/step - loss: 0.8479 - accuracy: 0.6239 - val_loss: 0.9064 - val_accuracy: 0.5882\n",
            "Epoch 11/120\n",
            "43/43 [==============================] - 15s 359ms/step - loss: 0.8351 - accuracy: 0.6254 - val_loss: 0.8825 - val_accuracy: 0.6471\n",
            "Epoch 12/120\n",
            "43/43 [==============================] - 15s 349ms/step - loss: 0.7905 - accuracy: 0.6327 - val_loss: 0.8798 - val_accuracy: 0.7059\n",
            "Epoch 13/120\n",
            "43/43 [==============================] - 15s 352ms/step - loss: 0.8195 - accuracy: 0.6563 - val_loss: 0.9270 - val_accuracy: 0.5735\n",
            "Epoch 14/120\n",
            "43/43 [==============================] - 15s 354ms/step - loss: 0.7635 - accuracy: 0.6637 - val_loss: 0.8933 - val_accuracy: 0.5588\n",
            "Epoch 15/120\n",
            "43/43 [==============================] - 15s 348ms/step - loss: 0.7557 - accuracy: 0.6814 - val_loss: 0.8731 - val_accuracy: 0.6176\n",
            "Epoch 16/120\n",
            "43/43 [==============================] - 15s 350ms/step - loss: 0.7417 - accuracy: 0.6858 - val_loss: 0.8971 - val_accuracy: 0.6471\n",
            "Epoch 17/120\n",
            "43/43 [==============================] - 14s 331ms/step - loss: 0.7246 - accuracy: 0.7021 - val_loss: 0.8845 - val_accuracy: 0.6765\n",
            "Epoch 18/120\n",
            "43/43 [==============================] - 15s 353ms/step - loss: 0.7620 - accuracy: 0.6622 - val_loss: 0.7687 - val_accuracy: 0.7059\n",
            "Epoch 19/120\n",
            "43/43 [==============================] - 15s 335ms/step - loss: 0.7359 - accuracy: 0.6696 - val_loss: 0.8596 - val_accuracy: 0.6324\n",
            "Epoch 20/120\n",
            "43/43 [==============================] - 15s 355ms/step - loss: 0.6903 - accuracy: 0.7080 - val_loss: 0.9339 - val_accuracy: 0.6324\n",
            "Epoch 21/120\n",
            "43/43 [==============================] - 15s 350ms/step - loss: 0.6596 - accuracy: 0.7330 - val_loss: 0.8533 - val_accuracy: 0.6765\n",
            "Epoch 22/120\n",
            "43/43 [==============================] - 14s 335ms/step - loss: 0.7225 - accuracy: 0.6947 - val_loss: 0.7881 - val_accuracy: 0.7500\n",
            "Epoch 23/120\n",
            "43/43 [==============================] - 15s 356ms/step - loss: 0.6420 - accuracy: 0.7360 - val_loss: 0.8520 - val_accuracy: 0.6765\n",
            "Epoch 24/120\n",
            "43/43 [==============================] - 15s 350ms/step - loss: 0.6794 - accuracy: 0.7168 - val_loss: 0.8710 - val_accuracy: 0.6912\n",
            "Epoch 25/120\n",
            "43/43 [==============================] - 15s 349ms/step - loss: 0.6267 - accuracy: 0.7404 - val_loss: 0.7379 - val_accuracy: 0.7647\n",
            "Epoch 26/120\n",
            "43/43 [==============================] - 15s 350ms/step - loss: 0.6369 - accuracy: 0.7330 - val_loss: 0.7276 - val_accuracy: 0.7500\n",
            "Epoch 27/120\n",
            "43/43 [==============================] - 15s 347ms/step - loss: 0.6334 - accuracy: 0.7257 - val_loss: 0.8616 - val_accuracy: 0.7794\n",
            "Epoch 28/120\n",
            "43/43 [==============================] - 15s 356ms/step - loss: 0.6189 - accuracy: 0.7360 - val_loss: 0.9046 - val_accuracy: 0.6471\n",
            "Epoch 29/120\n",
            "43/43 [==============================] - 15s 359ms/step - loss: 0.6341 - accuracy: 0.7168 - val_loss: 0.7190 - val_accuracy: 0.7500\n",
            "Epoch 30/120\n",
            "43/43 [==============================] - 15s 345ms/step - loss: 0.6338 - accuracy: 0.7375 - val_loss: 0.7891 - val_accuracy: 0.7647\n",
            "Epoch 31/120\n",
            "43/43 [==============================] - 15s 344ms/step - loss: 0.5635 - accuracy: 0.7670 - val_loss: 0.8234 - val_accuracy: 0.7206\n",
            "Epoch 32/120\n",
            "43/43 [==============================] - 15s 354ms/step - loss: 0.5740 - accuracy: 0.7611 - val_loss: 0.5880 - val_accuracy: 0.7794\n",
            "Epoch 33/120\n",
            "43/43 [==============================] - 15s 355ms/step - loss: 0.5483 - accuracy: 0.7758 - val_loss: 0.6048 - val_accuracy: 0.8676\n",
            "Epoch 34/120\n",
            "43/43 [==============================] - 15s 353ms/step - loss: 0.5361 - accuracy: 0.7847 - val_loss: 0.5420 - val_accuracy: 0.8235\n",
            "Epoch 35/120\n",
            "43/43 [==============================] - 15s 350ms/step - loss: 0.5616 - accuracy: 0.7847 - val_loss: 0.6571 - val_accuracy: 0.8382\n",
            "Epoch 36/120\n",
            "43/43 [==============================] - 15s 354ms/step - loss: 0.5342 - accuracy: 0.7861 - val_loss: 0.6542 - val_accuracy: 0.8088\n",
            "Epoch 37/120\n",
            "43/43 [==============================] - 15s 353ms/step - loss: 0.5100 - accuracy: 0.7743 - val_loss: 0.6376 - val_accuracy: 0.8235\n",
            "Epoch 38/120\n",
            "43/43 [==============================] - 15s 353ms/step - loss: 0.5199 - accuracy: 0.7861 - val_loss: 0.7063 - val_accuracy: 0.8088\n",
            "Epoch 39/120\n",
            "43/43 [==============================] - 15s 352ms/step - loss: 0.5913 - accuracy: 0.7699 - val_loss: 0.6756 - val_accuracy: 0.7941\n",
            "Epoch 40/120\n",
            "43/43 [==============================] - 15s 345ms/step - loss: 0.5198 - accuracy: 0.7684 - val_loss: 0.7203 - val_accuracy: 0.8235\n",
            "Epoch 41/120\n",
            "43/43 [==============================] - 15s 350ms/step - loss: 0.5190 - accuracy: 0.7876 - val_loss: 0.7859 - val_accuracy: 0.7794\n",
            "Epoch 42/120\n",
            "43/43 [==============================] - 14s 324ms/step - loss: 0.5034 - accuracy: 0.7935 - val_loss: 0.7471 - val_accuracy: 0.8235\n",
            "Epoch 43/120\n",
            "43/43 [==============================] - 15s 347ms/step - loss: 0.5454 - accuracy: 0.7640 - val_loss: 0.6030 - val_accuracy: 0.8235\n",
            "Epoch 44/120\n",
            "43/43 [==============================] - 15s 346ms/step - loss: 0.4633 - accuracy: 0.8083 - val_loss: 0.6145 - val_accuracy: 0.8235\n",
            "Epoch 45/120\n",
            "43/43 [==============================] - 15s 351ms/step - loss: 0.4839 - accuracy: 0.7979 - val_loss: 0.5845 - val_accuracy: 0.7941\n",
            "Epoch 46/120\n",
            "43/43 [==============================] - 15s 356ms/step - loss: 0.4664 - accuracy: 0.8230 - val_loss: 0.6981 - val_accuracy: 0.8235\n",
            "Epoch 47/120\n",
            "43/43 [==============================] - 15s 353ms/step - loss: 0.4947 - accuracy: 0.7714 - val_loss: 0.7962 - val_accuracy: 0.8235\n",
            "Epoch 48/120\n",
            "43/43 [==============================] - 15s 346ms/step - loss: 0.4875 - accuracy: 0.8038 - val_loss: 0.6787 - val_accuracy: 0.8088\n",
            "Epoch 49/120\n",
            "43/43 [==============================] - 15s 350ms/step - loss: 0.5025 - accuracy: 0.7817 - val_loss: 0.6447 - val_accuracy: 0.8088\n",
            "Epoch 50/120\n",
            "43/43 [==============================] - 15s 351ms/step - loss: 0.4848 - accuracy: 0.7965 - val_loss: 0.6823 - val_accuracy: 0.7647\n",
            "Epoch 51/120\n",
            "43/43 [==============================] - 15s 353ms/step - loss: 0.4830 - accuracy: 0.7965 - val_loss: 0.7249 - val_accuracy: 0.7941\n",
            "Epoch 52/120\n",
            "43/43 [==============================] - 15s 349ms/step - loss: 0.4196 - accuracy: 0.8348 - val_loss: 0.7980 - val_accuracy: 0.8382\n",
            "Epoch 53/120\n",
            "43/43 [==============================] - 15s 338ms/step - loss: 0.3902 - accuracy: 0.8451 - val_loss: 0.7370 - val_accuracy: 0.8235\n",
            "Epoch 54/120\n",
            "43/43 [==============================] - 15s 351ms/step - loss: 0.4494 - accuracy: 0.8245 - val_loss: 0.6990 - val_accuracy: 0.7941\n",
            "Epoch 55/120\n",
            "43/43 [==============================] - 15s 354ms/step - loss: 0.4234 - accuracy: 0.8230 - val_loss: 0.6661 - val_accuracy: 0.8088\n",
            "Epoch 56/120\n",
            "43/43 [==============================] - 14s 330ms/step - loss: 0.4598 - accuracy: 0.8142 - val_loss: 0.6118 - val_accuracy: 0.8235\n",
            "Epoch 57/120\n",
            "43/43 [==============================] - 15s 348ms/step - loss: 0.4900 - accuracy: 0.7906 - val_loss: 0.6780 - val_accuracy: 0.8235\n",
            "Epoch 58/120\n",
            "43/43 [==============================] - 16s 361ms/step - loss: 0.4629 - accuracy: 0.8127 - val_loss: 0.5795 - val_accuracy: 0.8676\n",
            "Epoch 59/120\n",
            "43/43 [==============================] - 15s 358ms/step - loss: 0.4347 - accuracy: 0.7950 - val_loss: 0.8828 - val_accuracy: 0.8088\n",
            "Epoch 60/120\n",
            "43/43 [==============================] - 15s 354ms/step - loss: 0.4617 - accuracy: 0.8186 - val_loss: 0.6122 - val_accuracy: 0.8235\n",
            "Epoch 61/120\n",
            "43/43 [==============================] - 15s 353ms/step - loss: 0.4049 - accuracy: 0.8215 - val_loss: 0.6332 - val_accuracy: 0.8382\n",
            "Epoch 62/120\n",
            "43/43 [==============================] - 15s 356ms/step - loss: 0.4329 - accuracy: 0.8186 - val_loss: 0.7553 - val_accuracy: 0.8382\n",
            "Epoch 63/120\n",
            "43/43 [==============================] - 15s 348ms/step - loss: 0.4124 - accuracy: 0.8304 - val_loss: 0.6262 - val_accuracy: 0.8676\n",
            "Epoch 64/120\n",
            "43/43 [==============================] - 15s 338ms/step - loss: 0.4323 - accuracy: 0.8333 - val_loss: 0.7052 - val_accuracy: 0.8088\n",
            "Epoch 65/120\n",
            "43/43 [==============================] - 15s 357ms/step - loss: 0.4267 - accuracy: 0.8304 - val_loss: 0.6963 - val_accuracy: 0.8382\n",
            "Epoch 66/120\n",
            "43/43 [==============================] - 15s 356ms/step - loss: 0.4298 - accuracy: 0.8319 - val_loss: 0.5947 - val_accuracy: 0.8382\n",
            "Epoch 67/120\n",
            "43/43 [==============================] - 15s 352ms/step - loss: 0.3926 - accuracy: 0.8510 - val_loss: 0.6405 - val_accuracy: 0.8382\n",
            "Epoch 68/120\n",
            "43/43 [==============================] - 15s 350ms/step - loss: 0.4031 - accuracy: 0.8555 - val_loss: 0.3867 - val_accuracy: 0.9265\n",
            "Epoch 69/120\n",
            "43/43 [==============================] - 15s 353ms/step - loss: 0.4256 - accuracy: 0.8451 - val_loss: 0.6342 - val_accuracy: 0.7794\n",
            "Epoch 70/120\n",
            "43/43 [==============================] - 15s 351ms/step - loss: 0.4030 - accuracy: 0.8378 - val_loss: 0.6007 - val_accuracy: 0.8529\n",
            "Epoch 71/120\n",
            "43/43 [==============================] - 15s 350ms/step - loss: 0.3568 - accuracy: 0.8658 - val_loss: 0.6688 - val_accuracy: 0.8676\n",
            "Epoch 72/120\n",
            "43/43 [==============================] - 15s 351ms/step - loss: 0.4044 - accuracy: 0.8481 - val_loss: 0.5627 - val_accuracy: 0.8676\n",
            "Epoch 73/120\n",
            "43/43 [==============================] - 15s 353ms/step - loss: 0.3611 - accuracy: 0.8555 - val_loss: 0.6612 - val_accuracy: 0.8529\n",
            "Epoch 74/120\n",
            "43/43 [==============================] - 15s 355ms/step - loss: 0.4282 - accuracy: 0.8392 - val_loss: 0.4540 - val_accuracy: 0.8824\n",
            "Epoch 75/120\n",
            "43/43 [==============================] - 15s 352ms/step - loss: 0.3962 - accuracy: 0.8496 - val_loss: 0.5803 - val_accuracy: 0.8529\n",
            "Epoch 76/120\n",
            "43/43 [==============================] - 15s 352ms/step - loss: 0.4154 - accuracy: 0.8289 - val_loss: 0.6008 - val_accuracy: 0.8382\n",
            "Epoch 77/120\n",
            "43/43 [==============================] - 15s 359ms/step - loss: 0.3570 - accuracy: 0.8673 - val_loss: 0.4661 - val_accuracy: 0.8824\n",
            "Epoch 78/120\n",
            "43/43 [==============================] - 15s 353ms/step - loss: 0.3472 - accuracy: 0.8569 - val_loss: 0.6121 - val_accuracy: 0.7941\n",
            "Epoch 79/120\n",
            "43/43 [==============================] - 15s 338ms/step - loss: 0.3944 - accuracy: 0.8437 - val_loss: 0.4466 - val_accuracy: 0.8824\n",
            "Epoch 80/120\n",
            "43/43 [==============================] - 15s 355ms/step - loss: 0.3612 - accuracy: 0.8540 - val_loss: 0.4433 - val_accuracy: 0.8824\n",
            "Epoch 81/120\n",
            "43/43 [==============================] - 15s 351ms/step - loss: 0.3264 - accuracy: 0.8702 - val_loss: 0.4941 - val_accuracy: 0.8824\n",
            "Epoch 82/120\n",
            "43/43 [==============================] - 15s 356ms/step - loss: 0.4074 - accuracy: 0.8392 - val_loss: 0.5073 - val_accuracy: 0.8971\n",
            "Epoch 83/120\n",
            "43/43 [==============================] - 15s 345ms/step - loss: 0.3246 - accuracy: 0.8879 - val_loss: 0.5350 - val_accuracy: 0.8971\n",
            "Epoch 84/120\n",
            "43/43 [==============================] - 15s 350ms/step - loss: 0.4082 - accuracy: 0.8392 - val_loss: 0.4304 - val_accuracy: 0.8971\n",
            "Epoch 85/120\n",
            "43/43 [==============================] - 15s 353ms/step - loss: 0.3710 - accuracy: 0.8510 - val_loss: 0.4733 - val_accuracy: 0.8676\n",
            "Epoch 86/120\n",
            "43/43 [==============================] - 15s 348ms/step - loss: 0.3854 - accuracy: 0.8392 - val_loss: 0.5395 - val_accuracy: 0.8529\n",
            "Epoch 87/120\n",
            "43/43 [==============================] - 15s 352ms/step - loss: 0.3561 - accuracy: 0.8614 - val_loss: 0.6435 - val_accuracy: 0.8529\n",
            "Epoch 88/120\n",
            "43/43 [==============================] - 16s 362ms/step - loss: 0.3331 - accuracy: 0.8776 - val_loss: 0.6044 - val_accuracy: 0.8824\n",
            "Epoch 89/120\n",
            "43/43 [==============================] - 15s 357ms/step - loss: 0.3233 - accuracy: 0.8746 - val_loss: 0.5555 - val_accuracy: 0.8529\n",
            "Epoch 90/120\n",
            "43/43 [==============================] - 15s 344ms/step - loss: 0.3958 - accuracy: 0.8437 - val_loss: 0.4729 - val_accuracy: 0.8824\n",
            "Epoch 91/120\n",
            "43/43 [==============================] - 15s 354ms/step - loss: 0.3061 - accuracy: 0.8864 - val_loss: 0.6120 - val_accuracy: 0.8676\n",
            "Epoch 92/120\n",
            "43/43 [==============================] - 15s 352ms/step - loss: 0.3354 - accuracy: 0.8614 - val_loss: 0.5525 - val_accuracy: 0.8529\n",
            "Epoch 93/120\n",
            "43/43 [==============================] - 15s 354ms/step - loss: 0.3179 - accuracy: 0.8717 - val_loss: 0.5913 - val_accuracy: 0.8529\n",
            "Epoch 94/120\n",
            "43/43 [==============================] - 15s 352ms/step - loss: 0.3580 - accuracy: 0.8702 - val_loss: 0.5478 - val_accuracy: 0.8676\n",
            "Epoch 95/120\n",
            "43/43 [==============================] - 16s 363ms/step - loss: 0.3216 - accuracy: 0.8717 - val_loss: 0.5879 - val_accuracy: 0.8235\n",
            "Epoch 96/120\n",
            "43/43 [==============================] - 15s 351ms/step - loss: 0.3770 - accuracy: 0.8555 - val_loss: 0.4771 - val_accuracy: 0.8676\n",
            "Epoch 97/120\n",
            "43/43 [==============================] - 15s 356ms/step - loss: 0.3203 - accuracy: 0.8702 - val_loss: 0.5584 - val_accuracy: 0.8676\n",
            "Epoch 98/120\n",
            "43/43 [==============================] - 15s 341ms/step - loss: 0.3247 - accuracy: 0.8599 - val_loss: 0.5541 - val_accuracy: 0.8382\n",
            "Epoch 99/120\n",
            "43/43 [==============================] - 14s 337ms/step - loss: 0.3039 - accuracy: 0.9071 - val_loss: 0.4530 - val_accuracy: 0.9118\n",
            "Epoch 100/120\n",
            "43/43 [==============================] - 14s 332ms/step - loss: 0.3461 - accuracy: 0.8820 - val_loss: 0.6378 - val_accuracy: 0.8235\n",
            "Epoch 101/120\n",
            "43/43 [==============================] - 15s 339ms/step - loss: 0.3236 - accuracy: 0.8909 - val_loss: 0.6704 - val_accuracy: 0.8382\n",
            "Epoch 102/120\n",
            "43/43 [==============================] - 15s 347ms/step - loss: 0.3264 - accuracy: 0.8791 - val_loss: 0.7418 - val_accuracy: 0.8235\n",
            "Epoch 103/120\n",
            "43/43 [==============================] - 15s 349ms/step - loss: 0.2960 - accuracy: 0.8864 - val_loss: 0.6038 - val_accuracy: 0.8824\n",
            "Epoch 104/120\n",
            "43/43 [==============================] - 15s 353ms/step - loss: 0.3109 - accuracy: 0.8968 - val_loss: 0.6588 - val_accuracy: 0.8088\n",
            "Epoch 105/120\n",
            "43/43 [==============================] - 15s 354ms/step - loss: 0.3066 - accuracy: 0.8776 - val_loss: 0.7782 - val_accuracy: 0.8676\n",
            "Epoch 106/120\n",
            "43/43 [==============================] - 15s 352ms/step - loss: 0.3499 - accuracy: 0.8702 - val_loss: 0.6710 - val_accuracy: 0.8382\n",
            "Epoch 107/120\n",
            "43/43 [==============================] - 15s 347ms/step - loss: 0.3269 - accuracy: 0.8658 - val_loss: 0.6376 - val_accuracy: 0.8676\n",
            "Epoch 108/120\n",
            "43/43 [==============================] - 15s 344ms/step - loss: 0.3016 - accuracy: 0.8864 - val_loss: 0.5922 - val_accuracy: 0.8824\n",
            "Epoch 109/120\n",
            "43/43 [==============================] - 15s 349ms/step - loss: 0.2752 - accuracy: 0.8909 - val_loss: 0.7207 - val_accuracy: 0.8382\n",
            "Epoch 110/120\n",
            "43/43 [==============================] - 15s 351ms/step - loss: 0.2983 - accuracy: 0.8732 - val_loss: 0.5069 - val_accuracy: 0.8676\n",
            "Epoch 111/120\n",
            "43/43 [==============================] - 15s 346ms/step - loss: 0.3220 - accuracy: 0.8702 - val_loss: 0.6487 - val_accuracy: 0.8529\n",
            "Epoch 112/120\n",
            "43/43 [==============================] - 15s 345ms/step - loss: 0.3275 - accuracy: 0.8584 - val_loss: 0.5975 - val_accuracy: 0.8824\n",
            "Epoch 113/120\n",
            "43/43 [==============================] - 15s 360ms/step - loss: 0.3257 - accuracy: 0.8923 - val_loss: 0.6731 - val_accuracy: 0.8382\n",
            "Epoch 114/120\n",
            "43/43 [==============================] - 14s 338ms/step - loss: 0.2770 - accuracy: 0.8938 - val_loss: 1.0567 - val_accuracy: 0.8235\n",
            "Epoch 115/120\n",
            "43/43 [==============================] - 14s 319ms/step - loss: 0.3137 - accuracy: 0.8599 - val_loss: 0.5686 - val_accuracy: 0.8382\n",
            "Epoch 116/120\n",
            "43/43 [==============================] - 15s 346ms/step - loss: 0.2701 - accuracy: 0.9041 - val_loss: 0.6352 - val_accuracy: 0.8529\n",
            "Epoch 117/120\n",
            "43/43 [==============================] - 15s 350ms/step - loss: 0.3202 - accuracy: 0.8702 - val_loss: 0.6630 - val_accuracy: 0.8676\n",
            "Epoch 118/120\n",
            "43/43 [==============================] - 15s 338ms/step - loss: 0.3307 - accuracy: 0.8673 - val_loss: 0.5033 - val_accuracy: 0.8971\n",
            "Epoch 119/120\n",
            "43/43 [==============================] - 14s 326ms/step - loss: 0.3145 - accuracy: 0.8673 - val_loss: 0.5809 - val_accuracy: 0.8971\n",
            "Epoch 120/120\n",
            "43/43 [==============================] - 15s 355ms/step - loss: 0.2747 - accuracy: 0.9027 - val_loss: 0.6751 - val_accuracy: 0.8382\n"
          ]
        }
      ],
      "source": [
        "reduce_lr = tf.keras.callbacks.ReduceLROnPlateau(\n",
        "    monitor='val_loss', factor=0.2, patience=3, min_lr=0.0001\n",
        ")\n",
        "model.compile(\n",
        "    optimizer='adam',loss='categorical_crossentropy',metrics=['accuracy']\n",
        ")\n",
        "callbacks = [\n",
        "    tf.keras.callbacks.EarlyStopping(patience=5),\n",
        "    tf.keras.callbacks.ModelCheckpoint('model.h5',save_best_only=True),\n",
        "    tf.keras.callbacks.TensorBoard(log_dir='logs'),\n",
        "    reduce_lr\n",
        "]\n",
        "results = model.fit(train_data, validation_data=valid_data, epochs=120, verbose=1)\n"
      ]
    },
    {
      "cell_type": "code",
      "execution_count": null,
      "metadata": {
        "colab": {
          "base_uri": "https://localhost:8080/"
        },
        "id": "ur4_zZjEhtMu",
        "outputId": "230c0684-7cdc-415c-d323-d713200d9ded"
      },
      "outputs": [
        {
          "output_type": "stream",
          "name": "stdout",
          "text": [
            "13/13 [==============================] - 46s 4s/step - loss: 0.3529 - accuracy: 0.8878\n"
          ]
        }
      ],
      "source": [
        "loss, acc = model.evaluate(test_data,verbose = 1)"
      ]
    },
    {
      "cell_type": "code",
      "execution_count": null,
      "metadata": {
        "id": "KJlesVZDi3Td"
      },
      "outputs": [],
      "source": [
        "model.save('/content/drive/MyDrive/ModelData')"
      ]
    },
    {
      "cell_type": "code",
      "execution_count": null,
      "metadata": {
        "colab": {
          "base_uri": "https://localhost:8080/"
        },
        "id": "svIkwwI8iw20",
        "outputId": "fc11edec-3119-4014-b2d1-c48edca0c98b"
      },
      "outputs": [
        {
          "name": "stdout",
          "output_type": "stream",
          "text": [
            "Epoch 31/50\n",
            "43/43 [==============================] - ETA: 0s - loss: 0.7578 - accuracy: 0.8673"
          ]
        },
        {
          "name": "stderr",
          "output_type": "stream",
          "text": [
            "/usr/local/lib/python3.10/dist-packages/keras/src/engine/training.py:3079: UserWarning: You are saving your model as an HDF5 file via `model.save()`. This file format is considered legacy. We recommend using instead the native Keras format, e.g. `model.save('my_model.keras')`.\n",
            "  saving_api.save_model(\n"
          ]
        },
        {
          "name": "stdout",
          "output_type": "stream",
          "text": [
            "\b\b\b\b\b\b\b\b\b\b\b\b\b\b\b\b\b\b\b\b\b\b\b\b\b\b\b\b\b\b\b\b\b\b\b\b\b\b\b\b\b\b\b\b\b\b\b\b\b\b\b\b\b\b\b\b\b\b\b\b\b\b\b\b\b\b\b\b\b\b\b\b\b\b\b\b\b\b\b\b\b\b\r43/43 [==============================] - 58s 1s/step - loss: 0.7578 - accuracy: 0.8673 - val_loss: 1.1495 - val_accuracy: 0.7500 - lr: 0.0010\n",
            "Epoch 32/50\n",
            "43/43 [==============================] - 57s 1s/step - loss: 0.7335 - accuracy: 0.8835 - val_loss: 1.4585 - val_accuracy: 0.6471 - lr: 0.0010\n",
            "Epoch 33/50\n",
            "43/43 [==============================] - 59s 1s/step - loss: 0.8669 - accuracy: 0.8569 - val_loss: 1.4530 - val_accuracy: 0.7500 - lr: 0.0010\n",
            "Epoch 34/50\n",
            "43/43 [==============================] - 59s 1s/step - loss: 0.8827 - accuracy: 0.8481 - val_loss: 0.9526 - val_accuracy: 0.8529 - lr: 0.0010\n",
            "Epoch 35/50\n",
            "43/43 [==============================] - 58s 1s/step - loss: 0.9886 - accuracy: 0.8333 - val_loss: 1.9121 - val_accuracy: 0.6618 - lr: 0.0010\n",
            "Epoch 36/50\n",
            "43/43 [==============================] - 59s 1s/step - loss: 1.0187 - accuracy: 0.8348 - val_loss: 2.7241 - val_accuracy: 0.6029 - lr: 0.0010\n",
            "Epoch 37/50\n",
            "43/43 [==============================] - 62s 1s/step - loss: 1.0508 - accuracy: 0.8407 - val_loss: 1.4614 - val_accuracy: 0.7500 - lr: 0.0010\n",
            "Epoch 38/50\n",
            "43/43 [==============================] - 62s 1s/step - loss: 0.7054 - accuracy: 0.8923 - val_loss: 0.9783 - val_accuracy: 0.8088 - lr: 2.0000e-04\n",
            "Epoch 39/50\n",
            "43/43 [==============================] - 61s 1s/step - loss: 0.5950 - accuracy: 0.9100 - val_loss: 1.2498 - val_accuracy: 0.7059 - lr: 2.0000e-04\n"
          ]
        }
      ],
      "source": [
        "history = model.fit(train_data, validation_data=valid_data, epochs=50, callbacks=callbacks, initial_epoch=30, verbose=1)\n"
      ]
    }
  ],
  "metadata": {
    "accelerator": "GPU",
    "colab": {
      "provenance": [],
      "mount_file_id": "1JjNRTBdVY_6XEXVJNyC7rIYRrbi8wQzt",
      "authorship_tag": "ABX9TyPp4DOrrs+S2aqcNWvIp19S",
      "include_colab_link": true
    },
    "kernelspec": {
      "display_name": "Python 3",
      "name": "python3"
    },
    "language_info": {
      "name": "python"
    }
  },
  "nbformat": 4,
  "nbformat_minor": 0
}